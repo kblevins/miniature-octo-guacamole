{
 "cells": [
  {
   "cell_type": "code",
   "execution_count": 1,
   "metadata": {
    "collapsed": true
   },
   "outputs": [],
   "source": [
    "# Define dependencies\n",
    "import pandas as pd\n",
    "import os\n",
    "\n",
    "# Import SQL Alchemy\n",
    "from sqlalchemy import create_engine\n",
    "\n",
    "# Import and establish Base for which classes will be constructed \n",
    "from sqlalchemy.ext.declarative import declarative_base\n",
    "Base = declarative_base()\n",
    "\n",
    "# Import modules to declare columns and column data types\n",
    "from sqlalchemy import Column, Integer, String, Float, Text, Date, ForeignKey"
   ]
  },
  {
   "cell_type": "code",
   "execution_count": 2,
   "metadata": {
    "collapsed": true
   },
   "outputs": [],
   "source": [
    "# remove hawaii.sqlite if it exists to ensure a fresh start\n",
    "try:\n",
    "    os.remove('hawaii.sqlite')\n",
    "except OSError:\n",
    "    pass"
   ]
  },
  {
   "cell_type": "code",
   "execution_count": 3,
   "metadata": {},
   "outputs": [
    {
     "name": "stdout",
     "output_type": "stream",
     "text": [
      "   id      station        date  prcp  tobs\n",
      "0   0  USC00519397  2010-01-01  0.08    65\n",
      "1   1  USC00519397  2010-01-02  0.00    63\n",
      "2   2  USC00519397  2010-01-03  0.00    74\n",
      "3   3  USC00519397  2010-01-04  0.00    76\n",
      "4   4  USC00519397  2010-01-07  0.06    70\n"
     ]
    }
   ],
   "source": [
    "# read in measurement csv & repurpose index column as a unique id column\n",
    "meas = pd.read_csv(\"clean_measurements.csv\")\n",
    "meas = meas.reset_index()\n",
    "meas.columns = ['id', 'station', 'date', 'prcp', 'tobs']\n",
    "print(meas.head())"
   ]
  },
  {
   "cell_type": "code",
   "execution_count": 4,
   "metadata": {},
   "outputs": [
    {
     "name": "stdout",
     "output_type": "stream",
     "text": [
      "   id      station       date  prcp  tobs\n",
      "0   0  USC00519397 2010-01-01  0.08    65\n",
      "1   1  USC00519397 2010-01-02  0.00    63\n",
      "2   2  USC00519397 2010-01-03  0.00    74\n",
      "3   3  USC00519397 2010-01-04  0.00    76\n",
      "4   4  USC00519397 2010-01-07  0.06    70\n",
      "id                  int64\n",
      "station            object\n",
      "date       datetime64[ns]\n",
      "prcp              float64\n",
      "tobs                int64\n",
      "dtype: object\n"
     ]
    }
   ],
   "source": [
    "# convert date column to datetime dtype\n",
    "meas['date'] = pd.to_datetime(meas['date'], format = '%Y-%m-%d')\n",
    "print(meas.head())\n",
    "print(meas.dtypes)"
   ]
  },
  {
   "cell_type": "code",
   "execution_count": 5,
   "metadata": {
    "collapsed": true
   },
   "outputs": [],
   "source": [
    "# read in stations csv\n",
    "stn = pd.read_csv(\"clean_stations.csv\")\n",
    "# rename column\n",
    "stn.columns = ['station_id', 'name', 'latitude', 'longitude', 'elevation']"
   ]
  },
  {
   "cell_type": "code",
   "execution_count": 6,
   "metadata": {
    "collapsed": true
   },
   "outputs": [],
   "source": [
    "# Create the Measurement class\n",
    "class Measurement(Base):\n",
    "    __tablename__ = 'measurement'\n",
    "    id = Column(Integer, primary_key = True)\n",
    "    station = Column(String(25), ForeignKey('stations.station_id'))\n",
    "    date = Column(Date)\n",
    "    prcp = Column(Float)\n",
    "    tobs = Column(Integer)"
   ]
  },
  {
   "cell_type": "code",
   "execution_count": 7,
   "metadata": {
    "collapsed": true
   },
   "outputs": [],
   "source": [
    "# Create the Station class\n",
    "class Stations(Base):\n",
    "    __tablename__ = 'stations'\n",
    "    station_id = Column(String(25), primary_key = True)\n",
    "    name = Column(String(100))\n",
    "    latitude = Column(Float)\n",
    "    longitude = Column(Float)\n",
    "    elevation = Column(Float)"
   ]
  },
  {
   "cell_type": "code",
   "execution_count": 8,
   "metadata": {
    "collapsed": true
   },
   "outputs": [],
   "source": [
    "# Create a connection to a SQLite database\n",
    "engine = create_engine(\"sqlite:///hawaii.sqlite\")\n",
    "\n",
    "conn = engine.connect()\n",
    "\n",
    "# Create the tables within the database\n",
    "Base.metadata.create_all(conn)"
   ]
  },
  {
   "cell_type": "code",
   "execution_count": 9,
   "metadata": {},
   "outputs": [],
   "source": [
    "# insert stn df into stations table\n",
    "stn.to_sql('stations', engine, if_exists='append', index=False)"
   ]
  },
  {
   "cell_type": "code",
   "execution_count": 11,
   "metadata": {},
   "outputs": [
    {
     "data": {
      "text/plain": [
       "[('USC00519397', 'WAIKIKI 717.2, HI US', 21.2716, -157.8168, 3.0),\n",
       " ('USC00513117', 'KANEOHE 838.1, HI US', 21.4234, -157.8015, 14.6),\n",
       " ('USC00514830', 'KUALOA RANCH HEADQUARTERS 886.9, HI US', 21.5213, -157.8374, 7.0),\n",
       " ('USC00517948', 'PEARL CITY, HI US', 21.3934, -157.9751, 11.9),\n",
       " ('USC00518838', 'UPPER WAHIAWA 874.3, HI US', 21.4992, -158.0111, 306.6),\n",
       " ('USC00519523', 'WAIMANALO EXPERIMENTAL FARM, HI US', 21.33556, -157.71139, 19.5),\n",
       " ('USC00519281', 'WAIHEE 837.5, HI US', 21.45167, -157.84888999999995, 32.9),\n",
       " ('USC00511918', 'HONOLULU OBSERVATORY 702.2, HI US', 21.3152, -157.9992, 0.9),\n",
       " ('USC00516128', 'MANOA LYON ARBO 785.2, HI US', 21.3331, -157.8025, 152.4)]"
      ]
     },
     "execution_count": 11,
     "metadata": {},
     "output_type": "execute_result"
    }
   ],
   "source": [
    "# Select records from station table to check insert\n",
    "conn.execute(\"select * from stations limit 10\").fetchall()"
   ]
  },
  {
   "cell_type": "code",
   "execution_count": 12,
   "metadata": {
    "collapsed": true
   },
   "outputs": [],
   "source": [
    "# insert meas df into measurement table\n",
    "meas.to_sql('measurement', engine, if_exists='append', index=False)"
   ]
  },
  {
   "cell_type": "code",
   "execution_count": 13,
   "metadata": {},
   "outputs": [
    {
     "data": {
      "text/plain": [
       "[(0, 'USC00519397', '2010-01-01 00:00:00.000000', 0.08, 65),\n",
       " (1, 'USC00519397', '2010-01-02 00:00:00.000000', 0.0, 63),\n",
       " (2, 'USC00519397', '2010-01-03 00:00:00.000000', 0.0, 74),\n",
       " (3, 'USC00519397', '2010-01-04 00:00:00.000000', 0.0, 76),\n",
       " (4, 'USC00519397', '2010-01-07 00:00:00.000000', 0.06, 70),\n",
       " (5, 'USC00519397', '2010-01-08 00:00:00.000000', 0.0, 64),\n",
       " (6, 'USC00519397', '2010-01-09 00:00:00.000000', 0.0, 68),\n",
       " (7, 'USC00519397', '2010-01-10 00:00:00.000000', 0.0, 73),\n",
       " (8, 'USC00519397', '2010-01-11 00:00:00.000000', 0.01, 64),\n",
       " (9, 'USC00519397', '2010-01-12 00:00:00.000000', 0.0, 61)]"
      ]
     },
     "execution_count": 13,
     "metadata": {},
     "output_type": "execute_result"
    }
   ],
   "source": [
    "# Select records from measurement table to check insert \n",
    "conn.execute(\"select * from measurement limit 10\").fetchall()"
   ]
  }
 ],
 "metadata": {
  "kernelspec": {
   "display_name": "Python 3",
   "language": "python",
   "name": "python3"
  },
  "language_info": {
   "codemirror_mode": {
    "name": "ipython",
    "version": 3
   },
   "file_extension": ".py",
   "mimetype": "text/x-python",
   "name": "python",
   "nbconvert_exporter": "python",
   "pygments_lexer": "ipython3",
   "version": "3.6.2"
  }
 },
 "nbformat": 4,
 "nbformat_minor": 2
}
